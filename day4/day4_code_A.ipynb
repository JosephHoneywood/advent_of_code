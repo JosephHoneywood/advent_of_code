{
 "cells": [
  {
   "cell_type": "code",
   "execution_count": 1,
   "metadata": {},
   "outputs": [],
   "source": [
    "with open('input.txt') as f:\n",
    "    passport_text= [line.split() for line in f]"
   ]
  },
  {
   "cell_type": "code",
   "execution_count": 2,
   "metadata": {
    "scrolled": true
   },
   "outputs": [],
   "source": [
    "#segment passports where terminator is a ['']\n",
    "\n",
    "passport = {}\n",
    "passport_collection = []\n",
    "\n",
    "for passport_attributes in passport_text:\n",
    "    \n",
    "    if not passport_attributes:\n",
    "        passport_collection.append(passport)\n",
    "        passport = {}\n",
    "    else:\n",
    "        for pairs in passport_attributes:\n",
    "            key, value = pairs.split(':')\n",
    "            passport[key] = value"
   ]
  },
  {
   "cell_type": "code",
   "execution_count": 3,
   "metadata": {},
   "outputs": [],
   "source": [
    "class Passport:\n",
    "    # Takes a dictionary and structures it as a passport.\n",
    "    \n",
    "    def __init__(self, passport_dict):\n",
    "        self.fields = list(passport_dict.keys())\n",
    "        self.field_length = len(self.fields)\n",
    "        self.required_fields = ['byr', 'iyr', 'eyr', 'hgt', 'hcl', 'ecl', 'pid']\n",
    "        self.optional_field = ['cid']\n",
    "        self.all_valid_fields = self.required_fields + self.optional_field\n",
    "        \n",
    "        if sorted(self.fields) == sorted(self.required_fields) or sorted(self.fields) == sorted(self.all_valid_fields):\n",
    "            self.valid = True\n",
    "            \n",
    "        else:\n",
    "            self.valid = False\n",
    "\n",
    "    def __repr__(self):\n",
    "        return f\"{self.fields}\""
   ]
  },
  {
   "cell_type": "code",
   "execution_count": 4,
   "metadata": {},
   "outputs": [],
   "source": [
    "passports = [Passport(passport_dict) for passport_dict in passport_collection]\n",
    "valid = len([passport for passport in passports if passport.valid])"
   ]
  },
  {
   "cell_type": "code",
   "execution_count": 5,
   "metadata": {},
   "outputs": [
    {
     "data": {
      "text/plain": [
       "256"
      ]
     },
     "execution_count": 5,
     "metadata": {},
     "output_type": "execute_result"
    }
   ],
   "source": [
    "valid"
   ]
  }
 ],
 "metadata": {
  "kernelspec": {
   "display_name": "Python 3",
   "language": "python",
   "name": "python3"
  },
  "language_info": {
   "codemirror_mode": {
    "name": "ipython",
    "version": 3
   },
   "file_extension": ".py",
   "mimetype": "text/x-python",
   "name": "python",
   "nbconvert_exporter": "python",
   "pygments_lexer": "ipython3",
   "version": "3.9.0"
  }
 },
 "nbformat": 4,
 "nbformat_minor": 4
}
