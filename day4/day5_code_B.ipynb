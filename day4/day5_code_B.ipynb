{
 "cells": [
  {
   "cell_type": "code",
   "execution_count": 1,
   "metadata": {},
   "outputs": [],
   "source": [
    "import re\n",
    "with open('input.txt') as f:\n",
    "    passport_text= [line.split() for line in f]"
   ]
  },
  {
   "cell_type": "code",
   "execution_count": 2,
   "metadata": {},
   "outputs": [],
   "source": [
    "passport = {}\n",
    "passport_collection = []\n",
    "\n",
    "for passport_attributes in passport_text:\n",
    "    \n",
    "    if not passport_attributes:\n",
    "        passport_collection.append(passport)\n",
    "        passport = {}\n",
    "    else:\n",
    "        for pairs in passport_attributes:\n",
    "            key, value = pairs.split(':')\n",
    "            passport[key] = value"
   ]
  },
  {
   "cell_type": "code",
   "execution_count": 12,
   "metadata": {},
   "outputs": [],
   "source": [
    "class Passport():\n",
    "    # Takes a dictionary and structures it as a passport.\n",
    "    \n",
    "    field_conditions = {\n",
    "        'byr': {'length':4, 'min_year':1920, 'max_year':2002},\n",
    "        'iyr': {'length':4, 'min_year':2010, 'max_year':2020},\n",
    "        'eyr': {'length':4, 'min_year':2020, 'max_year':2030},\n",
    "        'hgt': {'in':(59, 76, 'in'), 'cm':(150, 193, 'cm')},\n",
    "        'hcl': '^#[0-9a-fA-F]{6}',\n",
    "        'ecl': ['amb', 'blu', 'brn', 'gry', 'grn', 'hzl', 'oth'],\n",
    "        'pid': 9\n",
    "    }\n",
    "    \n",
    "    def __init__(self, passport_dict, field_conditions=field_conditions):\n",
    "        self.fields, self.values = list(passport_dict.keys()), list(passport_dict.values())\n",
    "        self.data = passport_dict\n",
    "        self.field_length = len(self.fields)\n",
    "        self.required_fields = list(field_conditions.keys())\n",
    "        self.optional_fields = ['cid']\n",
    "        self.all_valid_fields = self.required_fields + self.optional_fields\n",
    "        self.values_assessed = False\n",
    "        \n",
    "        if sorted(self.fields) == sorted(self.required_fields) or sorted(self.fields) == sorted(self.all_valid_fields):\n",
    "            self.valid_fields = True\n",
    "            \n",
    "        else:\n",
    "            self.valid_fields = False\n",
    "            \n",
    "    def validate_values(self, field_conditions=field_conditions):\n",
    "        \n",
    "        self.valid_passport = []\n",
    "        \n",
    "        def validate_yearly_values(self, field_conditions=field_conditions):\n",
    "            \n",
    "            yearly_fields = ['byr', 'iyr', 'eyr']\n",
    "            yearly_fields_valid = []\n",
    "            \n",
    "            for field in yearly_fields:\n",
    "                \n",
    "                field_value = int(self.data[field])\n",
    "                condition = field_conditions[field]\n",
    "                \n",
    "                if len(str(field_value)) == condition['length'] and field_value >= condition['min_year'] and field_value <= condition['max_year']:\n",
    "                    \n",
    "                    yearly_fields_valid.append(True)\n",
    "                    \n",
    "                else:\n",
    "                    \n",
    "                    yearly_fields_valid.append(False)\n",
    "                    \n",
    "            if all(yearly_fields_valid):\n",
    "                \n",
    "                return True\n",
    "                \n",
    "        def validate_height(self, field_conditions=field_conditions['hgt']):\n",
    "            \n",
    "            field_value = self.data['hgt']\n",
    "            if field_value[-2:] == 'cm' or field_value[-2:] == 'in':\n",
    "                \n",
    "                field_suffix = field_value[-2:]\n",
    "                field_int = int(field_value[:len(field_value)-2])\n",
    "                condition = field_conditions[field_suffix]\n",
    "            \n",
    "                if field_int >= condition[0] and field_int <= condition[1]: return True\n",
    "            \n",
    "        def validate_haircolour(self, field_conditions=field_conditions['hcl']):\n",
    "            \n",
    "            if re.match('^#[0-9a-fA-F]{6}', self.data['hcl']): return True\n",
    "            \n",
    "        def validate_eyecolour(self, field_conditions=field_conditions['ecl']):\n",
    "            \n",
    "            if self.data['ecl'] in field_conditions: return True\n",
    "            \n",
    "        def validate_passport_id(self, field_conditions=field_conditions['pid']):\n",
    "            \n",
    "            if len(self.data['pid']) == field_conditions: return True\n",
    "        \n",
    "        if self.valid_fields == False:\n",
    "            \n",
    "            #Dont bother they ain't got all the creds\"\n",
    "            \n",
    "            pass\n",
    "\n",
    "        else:\n",
    "            \n",
    "            self.valid_passport.append(validate_yearly_values(self))\n",
    "            \n",
    "            self.valid_passport.append(validate_height(self))\n",
    "            \n",
    "            self.valid_passport.append(validate_haircolour(self))\n",
    "            \n",
    "            self.valid_passport.append(validate_eyecolour(self))\n",
    "\n",
    "            self.valid_passport.append(validate_passport_id(self))\n",
    "        \n",
    "    def __repr__(self):\n",
    "        return f\"{self.data}\""
   ]
  },
  {
   "cell_type": "code",
   "execution_count": 13,
   "metadata": {},
   "outputs": [],
   "source": [
    "passports = [Passport(passport_dict) for passport_dict in passport_collection]\n",
    "valid_field_passports = [passport for passport in passports if passport.valid_fields == True]"
   ]
  },
  {
   "cell_type": "code",
   "execution_count": 14,
   "metadata": {
    "scrolled": true
   },
   "outputs": [],
   "source": [
    "valid = 0\n",
    "\n",
    "for passport in valid_field_passports:\n",
    "    \n",
    "    passport.validate_values()\n",
    "    \n",
    "    if all(passport.valid_passport):\n",
    "        \n",
    "        valid += 1"
   ]
  },
  {
   "cell_type": "code",
   "execution_count": 15,
   "metadata": {},
   "outputs": [
    {
     "data": {
      "text/plain": [
       "198"
      ]
     },
     "execution_count": 15,
     "metadata": {},
     "output_type": "execute_result"
    }
   ],
   "source": [
    "valid"
   ]
  },
  {
   "cell_type": "code",
   "execution_count": null,
   "metadata": {},
   "outputs": [],
   "source": []
  }
 ],
 "metadata": {
  "kernelspec": {
   "display_name": "Python 3",
   "language": "python",
   "name": "python3"
  },
  "language_info": {
   "codemirror_mode": {
    "name": "ipython",
    "version": 3
   },
   "file_extension": ".py",
   "mimetype": "text/x-python",
   "name": "python",
   "nbconvert_exporter": "python",
   "pygments_lexer": "ipython3",
   "version": "3.9.0"
  }
 },
 "nbformat": 4,
 "nbformat_minor": 4
}
