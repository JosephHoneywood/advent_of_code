{
 "cells": [
  {
   "cell_type": "code",
   "execution_count": 1,
   "metadata": {},
   "outputs": [],
   "source": [
    "from collections import Counter\n",
    "text_input = open('input.txt', 'r').read()[:-1].split('\\n\\n')"
   ]
  },
  {
   "cell_type": "code",
   "execution_count": 2,
   "metadata": {},
   "outputs": [],
   "source": [
    "group_sizes = [group.count('\\n') +1 for group in text_input]\n",
    "group_responses = [group.replace('\\n', '') for group in text_input]"
   ]
  },
  {
   "cell_type": "code",
   "execution_count": 3,
   "metadata": {
    "scrolled": true
   },
   "outputs": [
    {
     "data": {
      "text/plain": [
       "3351"
      ]
     },
     "execution_count": 3,
     "metadata": {},
     "output_type": "execute_result"
    }
   ],
   "source": [
    "group_unanimous_answers = 0\n",
    "\n",
    "for group in list(zip(group_sizes, group_responses)):\n",
    "    \n",
    "    counted_responses = Counter(group[1])\n",
    "    result = {k: v for k, v in counted_responses.items() if v == group[0]}\n",
    "    group_unanimous_answers += len(result.keys())\n",
    "\n",
    "group_unanimous_answers"
   ]
  }
 ],
 "metadata": {
  "kernelspec": {
   "display_name": "Python 3",
   "language": "python",
   "name": "python3"
  },
  "language_info": {
   "codemirror_mode": {
    "name": "ipython",
    "version": 3
   },
   "file_extension": ".py",
   "mimetype": "text/x-python",
   "name": "python",
   "nbconvert_exporter": "python",
   "pygments_lexer": "ipython3",
   "version": "3.9.0"
  }
 },
 "nbformat": 4,
 "nbformat_minor": 4
}
