{
 "cells": [
  {
   "cell_type": "code",
   "execution_count": 1,
   "metadata": {},
   "outputs": [],
   "source": [
    "target = 2020\n",
    "\n",
    "expenses_text = open('input.txt', 'r').read().splitlines()\n",
    "expenses = [int(i) for i in expenses_text]"
   ]
  },
  {
   "cell_type": "code",
   "execution_count": null,
   "metadata": {
    "scrolled": true
   },
   "outputs": [],
   "source": [
    "n1_and_discrepancy = list(zip(expenses, [target - i for i in expenses]))\n",
    "n1_and_discrepancy #(first possible number, discrepancy from 2020 left to find)"
   ]
  },
  {
   "cell_type": "code",
   "execution_count": 3,
   "metadata": {
    "scrolled": true
   },
   "outputs": [
    {
     "name": "stdout",
     "output_type": "stream",
     "text": [
      "2020 found with this combination (930, 609, 481)\n",
      "2020 found with this combination (609, 930, 481)\n",
      "2020 found with this combination (481, 930, 609)\n"
     ]
    }
   ],
   "source": [
    "for i in n1_and_discrepancy:\n",
    "    for expense in expenses:\n",
    "        \n",
    "        target = i[1] \n",
    "        \n",
    "        remaining_number = target - expense\n",
    "\n",
    "        if remaining_number in expenses:\n",
    "            print(f'2020 found with this combination {i[0], expense, remaining_number}')\n",
    "            result = i[0] * expense * remaining_number\n",
    "            break\n",
    "        else:            \n",
    "            pass"
   ]
  },
  {
   "cell_type": "code",
   "execution_count": 4,
   "metadata": {},
   "outputs": [
    {
     "data": {
      "text/plain": [
       "272423970"
      ]
     },
     "execution_count": 4,
     "metadata": {},
     "output_type": "execute_result"
    }
   ],
   "source": [
    "result"
   ]
  },
  {
   "cell_type": "code",
   "execution_count": null,
   "metadata": {},
   "outputs": [],
   "source": []
  }
 ],
 "metadata": {
  "kernelspec": {
   "display_name": "Python 3",
   "language": "python",
   "name": "python3"
  },
  "language_info": {
   "codemirror_mode": {
    "name": "ipython",
    "version": 3
   },
   "file_extension": ".py",
   "mimetype": "text/x-python",
   "name": "python",
   "nbconvert_exporter": "python",
   "pygments_lexer": "ipython3",
   "version": "3.9.0"
  }
 },
 "nbformat": 4,
 "nbformat_minor": 4
}
