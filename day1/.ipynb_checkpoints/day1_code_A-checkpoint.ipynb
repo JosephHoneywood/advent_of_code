{
 "cells": [
  {
   "cell_type": "code",
   "execution_count": 2,
   "metadata": {},
   "outputs": [],
   "source": [
    "target = 2020\n",
    "\n",
    "f = open('input.txt', 'r')\n",
    "expenses = f.read()\n",
    "expenses_split = expenses.splitlines()\n",
    "expenses_int = [int(i) for i in expenses_split]"
   ]
  },
  {
   "cell_type": "code",
   "execution_count": 4,
   "metadata": {},
   "outputs": [
    {
     "name": "stdout",
     "output_type": "stream",
     "text": [
      "valid for target447\n",
      "valid for target1573\n"
     ]
    }
   ],
   "source": [
    "for i in expenses_int:\n",
    "    if target - i in expenses_int:\n",
    "        print(f'valid for target {i}')\n",
    "    else:\n",
    "        pass"
   ]
  },
  {
   "cell_type": "code",
   "execution_count": 5,
   "metadata": {},
   "outputs": [
    {
     "data": {
      "text/plain": [
       "703131"
      ]
     },
     "execution_count": 5,
     "metadata": {},
     "output_type": "execute_result"
    }
   ],
   "source": [
    "final_ans = 447 * 1573\n",
    "final_ans"
   ]
  }
 ],
 "metadata": {
  "kernelspec": {
   "display_name": "Python 3",
   "language": "python",
   "name": "python3"
  },
  "language_info": {
   "codemirror_mode": {
    "name": "ipython",
    "version": 3
   },
   "file_extension": ".py",
   "mimetype": "text/x-python",
   "name": "python",
   "nbconvert_exporter": "python",
   "pygments_lexer": "ipython3",
   "version": "3.9.0"
  }
 },
 "nbformat": 4,
 "nbformat_minor": 4
}
