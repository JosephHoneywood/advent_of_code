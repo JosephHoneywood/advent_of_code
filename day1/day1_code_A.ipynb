{
 "cells": [
  {
   "cell_type": "code",
   "execution_count": 2,
   "metadata": {},
   "outputs": [],
   "source": [
    "target = 2020\n",
    "\n",
    "f = open('input.txt', 'r')\n",
    "expenses = f.read()\n",
    "expenses_split = expenses.splitlines()\n",
    "expenses_int = sorted([int(i) for i in expenses_split])"
   ]
  },
  {
   "cell_type": "code",
   "execution_count": 4,
   "metadata": {},
   "outputs": [
    {
     "output_type": "stream",
     "name": "stdout",
     "text": [
      "valid for target447\nvalid for target1573\n"
     ]
    }
   ],
   "source": [
    "# Check if number is viable distance_from_tar = target - n, search for distance_from_tar in list\n",
    "\n",
    "for i in expenses_int:\n",
    "    if target - i in expenses_int:\n",
    "        print(f'valid for target {i}')\n",
    "    else:\n",
    "        pass"
   ]
  },
  {
   "cell_type": "code",
   "execution_count": 5,
   "metadata": {},
   "outputs": [
    {
     "output_type": "execute_result",
     "data": {
      "text/plain": [
       "703131"
      ]
     },
     "metadata": {},
     "execution_count": 5
    }
   ],
   "source": [
    "final_ans = 447 * 1573\n",
    "final_ans"
   ]
  }
 ],
 "metadata": {
  "kernelspec": {
   "display_name": "Python 3",
   "language": "python",
   "name": "python3"
  },
  "language_info": {
   "codemirror_mode": {
    "name": "ipython",
    "version": 3
   },
   "file_extension": ".py",
   "mimetype": "text/x-python",
   "name": "python",
   "nbconvert_exporter": "python",
   "pygments_lexer": "ipython3",
   "version": "3.9.0-final"
  }
 },
 "nbformat": 4,
 "nbformat_minor": 4
}
