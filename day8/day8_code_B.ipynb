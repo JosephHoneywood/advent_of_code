{
 "cells": [
  {
   "cell_type": "code",
   "execution_count": 1,
   "metadata": {},
   "outputs": [],
   "source": [
    "text_input = open('input.txt', 'r').read().splitlines()"
   ]
  },
  {
   "cell_type": "code",
   "execution_count": 2,
   "metadata": {},
   "outputs": [],
   "source": [
    "def fulfil_instruction(instruction, argument, position, accumulator):\n",
    "\n",
    "    if instruction == 'nop':\n",
    "        position += 1\n",
    "    elif instruction == 'acc':\n",
    "        accumulator += int(argument)\n",
    "        position += 1\n",
    "    elif instruction == 'jmp':\n",
    "        position += int(argument)\n",
    "        \n",
    "    return position, accumulator\n",
    "\n",
    "def flip_instruction(instruction):\n",
    "    \n",
    "    if instruction == 'nop':\n",
    "        return 'jmp '\n",
    "    elif instruction == 'jmp':\n",
    "        return 'nop '"
   ]
  },
  {
   "cell_type": "code",
   "execution_count": 3,
   "metadata": {},
   "outputs": [],
   "source": [
    "# useful structure to use later\n",
    "\n",
    "structured_data = []\n",
    "for index, item in enumerate(text_input):\n",
    "    instruction, argument = item.split()\n",
    "    structured_data.append((instruction, argument,index))\n",
    "    \n",
    "structured_data; #instruction, argument and index"
   ]
  },
  {
   "cell_type": "code",
   "execution_count": 4,
   "metadata": {},
   "outputs": [
    {
     "name": "stdout",
     "output_type": "stream",
     "text": [
      "Revisited position 229. Infinite loop inevitable.\n"
     ]
    }
   ],
   "source": [
    "# Run once to get all the currently reachable indexes\n",
    "\n",
    "accumulator = 0\n",
    "position = 0\n",
    "visited_indexes = []\n",
    "safety_net = 0\n",
    "\n",
    "while len(visited_indexes) == len(set(visited_indexes)) and safety_net <= 1000:\n",
    "    \n",
    "    visited_indexes.append(position)\n",
    "    \n",
    "    instruction, argument = text_input[position].split()\n",
    "    \n",
    "    position, accumulator = fulfil_instruction(instruction=instruction,\n",
    "                                               argument=argument,\n",
    "                                               position=position,\n",
    "                                               accumulator=accumulator)\n",
    "    \n",
    "    safety_net += 1\n",
    "    \n",
    "    if len(visited_indexes) != len(set(visited_indexes)): print(f'Revisited position {position}. Infinite loop inevitable.')"
   ]
  },
  {
   "cell_type": "code",
   "execution_count": 5,
   "metadata": {},
   "outputs": [
    {
     "name": "stdout",
     "output_type": "stream",
     "text": [
      "Number of indexes passed before infinite loop: 217\n"
     ]
    }
   ],
   "source": [
    "print(f'Number of indexes passed before infinite loop: {len(visited_indexes)}')"
   ]
  },
  {
   "cell_type": "code",
   "execution_count": 6,
   "metadata": {},
   "outputs": [
    {
     "name": "stdout",
     "output_type": "stream",
     "text": [
      "Of the indexes passed, the only ones that are valid for amendment are nop or jmp. This leaves 98 fixable indexes\n"
     ]
    }
   ],
   "source": [
    "# Get a list of the indexes, args and instructions for correction\n",
    "# AoC tells us that only 'nop' or 'jmp' are candidates for amendments\n",
    "\n",
    "problem_indexes = []\n",
    "\n",
    "for i in visited_indexes:\n",
    "    if structured_data[i][0] == 'nop' or structured_data[i][0] == 'jmp': problem_indexes.append(structured_data[i])\n",
    "        \n",
    "culprits = len(problem_indexes)\n",
    "print(f'Of the indexes passed, the only ones that are valid for amendment are nop or jmp. This leaves {culprits} fixable indexes')"
   ]
  },
  {
   "cell_type": "code",
   "execution_count": 7,
   "metadata": {},
   "outputs": [],
   "source": [
    "# Brute force method. Of the culprits left, modify the text input by flipping jmp to nop, or nop to jmp, and test the run.\n",
    "# Ensure that the text_input is corrected after each pass"
   ]
  },
  {
   "cell_type": "code",
   "execution_count": 8,
   "metadata": {
    "scrolled": true
   },
   "outputs": [
    {
     "name": "stdout",
     "output_type": "stream",
     "text": [
      "Successful run. Reached position 631 by amending index 328 \n",
      "\n",
      "Accumulator at the end of the successful run is: 672\n"
     ]
    }
   ],
   "source": [
    "solution_found = False\n",
    "\n",
    "for i in problem_indexes:\n",
    "    \n",
    "    if not solution_found:\n",
    "        \n",
    "        accumulator = 0\n",
    "        position = 0\n",
    "        visited_indexes = []\n",
    "        safety_net = 0 #var just to ensure we don't get stuck in an infinite loop because that would suck\n",
    "\n",
    "\n",
    "        text_input[i[2]] = f\"{flip_instruction(i[0]) + i[1]}\"\n",
    "\n",
    "        while len(visited_indexes) == len(set(visited_indexes)) and safety_net <= 1000:\n",
    "\n",
    "            visited_indexes.append(position) #record the position at the start of the loop\n",
    "\n",
    "            instruction, argument = text_input[position].split()\n",
    "\n",
    "\n",
    "            position, accumulator = fulfil_instruction(instruction=instruction,\n",
    "                                           argument=argument,\n",
    "                                           position=position,\n",
    "                                           accumulator=accumulator)\n",
    "\n",
    "            safety_net += 1\n",
    "\n",
    "            if len(visited_indexes) != len(set(visited_indexes)):\n",
    "                break\n",
    "            elif position == len(text_input):\n",
    "                print(f'Successful run. Reached position {position} by amending index {i[2]} \\n')\n",
    "                print(f'Accumulator at the end of the successful run is: {accumulator}')\n",
    "                solution_found = True\n",
    "                break\n",
    "\n",
    "        #reload text_input to undo the amendment made in the present loop\n",
    "        text_input = open('input.txt', 'r').read().splitlines()"
   ]
  }
 ],
 "metadata": {
  "kernelspec": {
   "display_name": "Python 3",
   "language": "python",
   "name": "python3"
  },
  "language_info": {
   "codemirror_mode": {
    "name": "ipython",
    "version": 3
   },
   "file_extension": ".py",
   "mimetype": "text/x-python",
   "name": "python",
   "nbconvert_exporter": "python",
   "pygments_lexer": "ipython3",
   "version": "3.9.0"
  }
 },
 "nbformat": 4,
 "nbformat_minor": 4
}
