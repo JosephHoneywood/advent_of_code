{
 "cells": [
  {
   "cell_type": "code",
   "execution_count": 1,
   "metadata": {},
   "outputs": [],
   "source": [
    "import re\n",
    "\n",
    "text_input = [l.rstrip() for l in open(\"input.txt\").readlines()]\n",
    "personal_bag = \"shiny gold\"\n",
    "re_bags = re.compile(r\"((\\d+?) (.+?) bag)+\")"
   ]
  },
  {
   "cell_type": "code",
   "execution_count": 2,
   "metadata": {},
   "outputs": [],
   "source": [
    "bagsdict = dict()\n",
    "\n",
    "for line in text_input:\n",
    "    \n",
    "    (outside, inside) = line.split(\" bags contain \")\n",
    "    inside_bags = dict()\n",
    "    bags_inside = re_bags.findall(inside)\n",
    "    \n",
    "    for bag in bags_inside:\n",
    "        inside_bags[bag[2]] = int(bag[1])    \n",
    "        \n",
    "    bagsdict[outside] = inside_bags"
   ]
  },
  {
   "cell_type": "code",
   "execution_count": 3,
   "metadata": {},
   "outputs": [
    {
     "name": "stdout",
     "output_type": "stream",
     "text": [
      "235\n"
     ]
    }
   ],
   "source": [
    "bags_to_find = {personal_bag}\n",
    "found_bags = set()\n",
    "\n",
    "while len(bags_to_find) > 0:\n",
    "    find = bags_to_find.pop()    \n",
    "    bags = [bag for bag, inside in bagsdict.items() if find in inside.keys()]\n",
    "    bags_to_find.update(bags)\n",
    "    found_bags.update(bags)\n",
    "    \n",
    "print(len(found_bags))"
   ]
  }
 ],
 "metadata": {
  "kernelspec": {
   "display_name": "Python 3",
   "language": "python",
   "name": "python3"
  },
  "language_info": {
   "codemirror_mode": {
    "name": "ipython",
    "version": 3
   },
   "file_extension": ".py",
   "mimetype": "text/x-python",
   "name": "python",
   "nbconvert_exporter": "python",
   "pygments_lexer": "ipython3",
   "version": "3.9.0"
  }
 },
 "nbformat": 4,
 "nbformat_minor": 4
}
