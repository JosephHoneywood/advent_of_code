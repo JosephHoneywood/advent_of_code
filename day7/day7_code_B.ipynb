{
 "cells": [
  {
   "cell_type": "code",
   "execution_count": 1,
   "metadata": {},
   "outputs": [],
   "source": [
    "import re\n",
    "\n",
    "text_input = [l.rstrip() for l in open(\"input.txt\").readlines()]\n",
    "personal_bag = \"shiny gold\"\n",
    "re_bags = re.compile(r\"((\\d+?) (.+?) bag)+\")"
   ]
  },
  {
   "cell_type": "code",
   "execution_count": 2,
   "metadata": {},
   "outputs": [],
   "source": [
    "bagsdict = dict()\n",
    "\n",
    "for line in text_input:\n",
    "    \n",
    "    (outside, inside) = line.split(\" bags contain \")\n",
    "    inside_bags = dict()\n",
    "    bags_inside = re_bags.findall(inside)\n",
    "    \n",
    "    for bag in bags_inside:\n",
    "        inside_bags[bag[2]] = int(bag[1])\n",
    "        \n",
    "    bagsdict[outside] = inside_bags"
   ]
  },
  {
   "cell_type": "code",
   "execution_count": 3,
   "metadata": {},
   "outputs": [
    {
     "name": "stdout",
     "output_type": "stream",
     "text": [
      "158493\n"
     ]
    }
   ],
   "source": [
    "bags_count = 0\n",
    "bags_to_process = [personal_bag]\n",
    "\n",
    "while len(bags_to_process) > 0:\n",
    "    process = bags_to_process.pop()\n",
    "    inside = bagsdict[process]\n",
    "    \n",
    "    for color, count in inside.items():\n",
    "        bags_count += count\n",
    "        bags_to_process.extend([color] * count)\n",
    "\n",
    "print(bags_count)"
   ]
  }
 ],
 "metadata": {
  "kernelspec": {
   "display_name": "Python 3",
   "language": "python",
   "name": "python3"
  },
  "language_info": {
   "codemirror_mode": {
    "name": "ipython",
    "version": 3
   },
   "file_extension": ".py",
   "mimetype": "text/x-python",
   "name": "python",
   "nbconvert_exporter": "python",
   "pygments_lexer": "ipython3",
   "version": "3.9.0"
  }
 },
 "nbformat": 4,
 "nbformat_minor": 4
}
