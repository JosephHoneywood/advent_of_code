{
 "cells": [
  {
   "cell_type": "code",
   "execution_count": 11,
   "metadata": {},
   "outputs": [],
   "source": [
    "import math\n",
    "\n",
    "input_text = open('input.txt', 'r').read().splitlines()\n",
    "\n",
    "class Toboggan():\n",
    "    \"\"\"Toboggan moves \"\"\"\n",
    "\n",
    "    def __init__(self):\n",
    "        \n",
    "        self.positionX, self.positionY = 0, 0\n",
    "\n",
    "    def traverse(self, x, y):\n",
    "        \n",
    "        self.positionX += x\n",
    "        self.positionY += y\n",
    "        \n",
    "def rebase_X(xpos, level):\n",
    "    \n",
    "    return math.floor(xpos / len(level)) * len(level)\n",
    "\n",
    "slopes = [(1,1), (3,1), (5,1), (7,1), (1,2)]"
   ]
  },
  {
   "cell_type": "code",
   "execution_count": 20,
   "metadata": {},
   "outputs": [],
   "source": [
    "all_trees_hit = []\n",
    "\n",
    "for slope in slopes:\n",
    "    \n",
    "    trees_hit = 0\n",
    "    toboggan = Toboggan()\n",
    "    \n",
    "    for i in input_text:\n",
    "        \n",
    "        xpos_rebase = rebase_X(xpos=toboggan.positionX, level=i)\n",
    "        \n",
    "        if input_text[toboggan.positionY][toboggan.positionX - xpos_rebase] == '#': trees_hit += 1\n",
    "            \n",
    "        toboggan.traverse(slope[0], slope[1])\n",
    "        \n",
    "        #check if we've reached the bottom if Y over-indexes (can happen when y increments by 2)\n",
    "        if toboggan.positionY > len(input_text): break\n",
    "        \n",
    "    all_trees_hit.append(trees_hit)\n",
    "    \n",
    "math.prod(all_trees_hit)"
   ]
  }
 ],
 "metadata": {
  "kernelspec": {
   "display_name": "Python 3",
   "language": "python",
   "name": "python3"
  },
  "language_info": {
   "codemirror_mode": {
    "name": "ipython",
    "version": 3
   },
   "file_extension": ".py",
   "mimetype": "text/x-python",
   "name": "python",
   "nbconvert_exporter": "python",
   "pygments_lexer": "ipython3",
   "version": "3.9.0"
  }
 },
 "nbformat": 4,
 "nbformat_minor": 4
}
