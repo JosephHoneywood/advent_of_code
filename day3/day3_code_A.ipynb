{
 "cells": [
  {
   "cell_type": "code",
   "execution_count": 137,
   "metadata": {},
   "outputs": [],
   "source": [
    "import math\n",
    "\n",
    "input_text = open('input.txt', 'r').read().splitlines()\n",
    "\n",
    "class Toboggan:\n",
    "    \"\"\"Toboggan moves right three.\"\"\"\n",
    "\n",
    "    def __init__(self):\n",
    "        \n",
    "        self.positionX, self.positionY = 0, 0\n",
    "\n",
    "    def traverse(self):\n",
    "        \n",
    "        self.positionX += 3\n",
    "        self.positionY += 1"
   ]
  },
  {
   "cell_type": "code",
   "execution_count": 138,
   "metadata": {},
   "outputs": [
    {
     "data": {
      "text/plain": [
       "270"
      ]
     },
     "execution_count": 138,
     "metadata": {},
     "output_type": "execute_result"
    }
   ],
   "source": [
    "toboggan = Toboggan()\n",
    "trees_hit_ouch = 0\n",
    "\n",
    "for i in input_text:\n",
    "\n",
    "    #rebase the x-axis to ensure we don't hit an index error\n",
    "    xpos_rebase = math.floor(toboggan.positionX / len(i)) * len(i)\n",
    "    \n",
    "    if input_text[toboggan.positionY][toboggan.positionX - xpos_rebase] == '#': trees_hit_ouch += 1\n",
    "        \n",
    "    toboggan.traverse()\n",
    "    \n",
    "trees_hit_ouch"
   ]
  }
 ],
 "metadata": {
  "kernelspec": {
   "display_name": "Python 3",
   "language": "python",
   "name": "python3"
  },
  "language_info": {
   "codemirror_mode": {
    "name": "ipython",
    "version": 3
   },
   "file_extension": ".py",
   "mimetype": "text/x-python",
   "name": "python",
   "nbconvert_exporter": "python",
   "pygments_lexer": "ipython3",
   "version": "3.9.0"
  }
 },
 "nbformat": 4,
 "nbformat_minor": 4
}
