{
 "cells": [
  {
   "cell_type": "code",
   "execution_count": 1,
   "metadata": {},
   "outputs": [],
   "source": [
    "from statistics import median_low, median_high"
   ]
  },
  {
   "cell_type": "code",
   "execution_count": 2,
   "metadata": {},
   "outputs": [],
   "source": [
    "input_text = open('input.txt', 'r').read().splitlines()"
   ]
  },
  {
   "cell_type": "code",
   "execution_count": 3,
   "metadata": {},
   "outputs": [],
   "source": [
    "def code_conversion(seat_code):\n",
    "    \n",
    "    min_row, min_col, max_row, max_col = 0,0,127,7\n",
    "    \n",
    "    for row in seat_code[:7]:\n",
    "        \n",
    "        if row == 'B': min_row = median_high(range(min_row, max_row +1))\n",
    "    \n",
    "        elif row == 'F': max_row = median_low(range(min_row, max_row +1))\n",
    "        \n",
    "    for col in seat_code[7:]:\n",
    "        \n",
    "        if col == 'R': min_col = median_high(range(min_col, max_col +1))\n",
    "\n",
    "        elif col == 'L': max_col = median_low(range(min_col, max_col +1))\n",
    "            \n",
    "    return (min_row * 8 + min_col)"
   ]
  },
  {
   "cell_type": "code",
   "execution_count": 4,
   "metadata": {},
   "outputs": [],
   "source": [
    "data = []\n",
    "\n",
    "for ticket in input_text:\n",
    "    \n",
    "    ticket_code = ['2' if code == 'B' or code == 'R' else '1' for code in ticket]\n",
    "        \n",
    "    ticket_int = int(''.join(ticket_code))\n",
    "    \n",
    "    seat_id = code_conversion(ticket)\n",
    "    \n",
    "    data.append((ticket, ticket_int, seat_id))\n",
    "    \n",
    "seats = sorted(data, key=lambda x:x[1])"
   ]
  },
  {
   "cell_type": "code",
   "execution_count": 5,
   "metadata": {},
   "outputs": [],
   "source": [
    "min_seat, max_seat = seats[0], seats[-1]\n",
    "full_seat_set = set(range(min_seat[2], max_seat[2]))\n",
    "boarding_pass_set = set([x[2] for x in seats])"
   ]
  },
  {
   "cell_type": "code",
   "execution_count": 6,
   "metadata": {},
   "outputs": [
    {
     "data": {
      "text/plain": [
       "{565}"
      ]
     },
     "execution_count": 6,
     "metadata": {},
     "output_type": "execute_result"
    }
   ],
   "source": [
    "full_seat_set - boarding_pass_set #goin' on holiday!"
   ]
  }
 ],
 "metadata": {
  "kernelspec": {
   "display_name": "Python 3",
   "language": "python",
   "name": "python3"
  },
  "language_info": {
   "codemirror_mode": {
    "name": "ipython",
    "version": 3
   },
   "file_extension": ".py",
   "mimetype": "text/x-python",
   "name": "python",
   "nbconvert_exporter": "python",
   "pygments_lexer": "ipython3",
   "version": "3.9.0"
  }
 },
 "nbformat": 4,
 "nbformat_minor": 4
}
