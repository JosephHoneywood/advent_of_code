{
 "cells": [
  {
   "cell_type": "code",
   "execution_count": 211,
   "metadata": {},
   "outputs": [],
   "source": [
    "from statistics import median_high, median_low\n",
    "input_text = open('input.txt', 'r').read().splitlines()"
   ]
  },
  {
   "cell_type": "code",
   "execution_count": 212,
   "metadata": {},
   "outputs": [],
   "source": [
    "data = []\n",
    "\n",
    "for ticket in input_text:\n",
    "    \n",
    "    ticket_code = ['2' if code == 'B' or code == 'R' else '1' for code in ticket]\n",
    "        \n",
    "    ticket_int = int(''.join(ticket_code))\n",
    "    \n",
    "    data.append((ticket, ticket_int))\n",
    "    \n",
    "highest_seat_code = sorted(data, key=lambda x:x[1], reverse=True)[0]"
   ]
  },
  {
   "cell_type": "code",
   "execution_count": 213,
   "metadata": {},
   "outputs": [
    {
     "data": {
      "text/plain": [
       "('BBFFBBBRLL', 2211222211)"
      ]
     },
     "execution_count": 213,
     "metadata": {},
     "output_type": "execute_result"
    }
   ],
   "source": [
    "highest_seat_code"
   ]
  },
  {
   "cell_type": "code",
   "execution_count": 220,
   "metadata": {},
   "outputs": [
    {
     "name": "stdout",
     "output_type": "stream",
     "text": [
      "103 103 4 4\n"
     ]
    }
   ],
   "source": [
    "max_row, max_col, min_row, min_col = 127, 7, 0, 0\n",
    "\n",
    "for row in highest_seat_code[0][:7]:\n",
    "    \n",
    "    if row == 'B': min_row = median_high(range(min_row, max_row +1))\n",
    "    \n",
    "    elif row == 'F': max_row = median_low(range(min_row, max_row +1))\n",
    "    \n",
    "for col in highest_seat_code[0][7:]:\n",
    "    \n",
    "    if col == 'R': min_col = median_high(range(min_col, max_col +1))\n",
    "\n",
    "    elif col == 'L': max_col = median_low(range(min_col, max_col + 1))\n",
    "        \n",
    "print(min_row, max_row, min_col, max_col)"
   ]
  },
  {
   "cell_type": "code",
   "execution_count": 217,
   "metadata": {},
   "outputs": [
    {
     "name": "stdout",
     "output_type": "stream",
     "text": [
      "828\n"
     ]
    }
   ],
   "source": [
    "print(min_row * 8 + min_col)"
   ]
  },
  {
   "cell_type": "code",
   "execution_count": null,
   "metadata": {},
   "outputs": [],
   "source": []
  }
 ],
 "metadata": {
  "kernelspec": {
   "display_name": "Python 3",
   "language": "python",
   "name": "python3"
  },
  "language_info": {
   "codemirror_mode": {
    "name": "ipython",
    "version": 3
   },
   "file_extension": ".py",
   "mimetype": "text/x-python",
   "name": "python",
   "nbconvert_exporter": "python",
   "pygments_lexer": "ipython3",
   "version": "3.9.0"
  }
 },
 "nbformat": 4,
 "nbformat_minor": 4
}
