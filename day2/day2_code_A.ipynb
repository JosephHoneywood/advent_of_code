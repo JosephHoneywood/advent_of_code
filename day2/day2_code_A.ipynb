{
 "cells": [
  {
   "cell_type": "code",
   "execution_count": 1,
   "metadata": {},
   "outputs": [],
   "source": [
    "corrupted_passwords_text = open('input.txt', 'r').read().splitlines()\n",
    "corrupted_passwords = [x.split(' ') for x in corrupted_passwords_text]"
   ]
  },
  {
   "cell_type": "code",
   "execution_count": 2,
   "metadata": {},
   "outputs": [],
   "source": [
    "min_and_max_criteria = [x[0].split('-') for x in corrupted_passwords]\n",
    "char_criteria = [x[1].replace(':', '') for x in corrupted_passwords]\n",
    "password_str = [x[2] for x in corrupted_passwords]"
   ]
  },
  {
   "cell_type": "code",
   "execution_count": 3,
   "metadata": {},
   "outputs": [],
   "source": [
    "corrupted_passwords_structured = list(zip(min_and_max_criteria, char_criteria, password_str))"
   ]
  },
  {
   "cell_type": "code",
   "execution_count": 6,
   "metadata": {},
   "outputs": [],
   "source": [
    "valid_passwords = 0\n",
    "\n",
    "for password_set in corrupted_passwords_structured:\n",
    "    \n",
    "    if password_set[1] in password_set[2]:\n",
    "        #the string contains at least one of the required char\n",
    "        \n",
    "        min_req = int(password_set[0][0])\n",
    "        max_req = int(password_set[0][1])\n",
    "        char_req = password_set[1]\n",
    "        \n",
    "        num_in_password = password_set[2].count(char_req)\n",
    "        \n",
    "        if num_in_password >= min_req and num_in_password <= max_req:\n",
    "            #the count of the required char is within the required min and max\n",
    "            \n",
    "            valid_passwords += 1\n",
    "        \n",
    "    else:\n",
    "        pass"
   ]
  },
  {
   "cell_type": "code",
   "execution_count": 7,
   "metadata": {},
   "outputs": [
    {
     "data": {
      "text/plain": [
       "493"
      ]
     },
     "execution_count": 7,
     "metadata": {},
     "output_type": "execute_result"
    }
   ],
   "source": [
    "valid_passwords"
   ]
  },
  {
   "cell_type": "code",
   "execution_count": null,
   "metadata": {},
   "outputs": [],
   "source": []
  }
 ],
 "metadata": {
  "kernelspec": {
   "display_name": "Python 3",
   "language": "python",
   "name": "python3"
  },
  "language_info": {
   "codemirror_mode": {
    "name": "ipython",
    "version": 3
   },
   "file_extension": ".py",
   "mimetype": "text/x-python",
   "name": "python",
   "nbconvert_exporter": "python",
   "pygments_lexer": "ipython3",
   "version": "3.9.0"
  }
 },
 "nbformat": 4,
 "nbformat_minor": 4
}