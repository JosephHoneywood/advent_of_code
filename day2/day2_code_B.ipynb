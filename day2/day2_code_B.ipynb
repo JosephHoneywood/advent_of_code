{
 "cells": [
  {
   "cell_type": "code",
   "execution_count": 1,
   "metadata": {},
   "outputs": [],
   "source": [
    "corrupted_passwords_text = open('input.txt', 'r').read().splitlines()\n",
    "corrupted_passwords = [x.split(' ') for x in corrupted_passwords_text]"
   ]
  },
  {
   "cell_type": "code",
   "execution_count": 2,
   "metadata": {},
   "outputs": [],
   "source": [
    "min_and_max_criteria = [x[0].split('-') for x in corrupted_passwords]\n",
    "char_criteria = [x[1].replace(':', '') for x in corrupted_passwords]\n",
    "password_str = [x[2] for x in corrupted_passwords]"
   ]
  },
  {
   "cell_type": "code",
   "execution_count": 3,
   "metadata": {},
   "outputs": [],
   "source": [
    "corrupted_passwords_structured = list(zip(min_and_max_criteria, char_criteria, password_str))"
   ]
  },
  {
   "cell_type": "code",
   "execution_count": 4,
   "metadata": {},
   "outputs": [
    {
     "name": "stdout",
     "output_type": "stream",
     "text": [
      "593\n"
     ]
    }
   ],
   "source": [
    "valid_passwords, invalid_passwords, total_passwords = 0, 0, len(corrupted_passwords_structured)\n",
    "index_offset = 1 #index starts from 1 not 0 in the context of the task\n",
    "\n",
    "for password_set in corrupted_passwords_structured:\n",
    "    \n",
    "    password_index_pos1, password_index_pos2 = int(password_set[0][0]) - index_offset, int(password_set[0][1]) - index_offset\n",
    "\n",
    "    indexed_char_1, indexed_char_2 = password_set[2][password_index_pos1], password_set[2][password_index_pos2]\n",
    "    \n",
    "    char_criteria = password_set[1]\n",
    "    \n",
    "    if indexed_char_1 == indexed_char_2:\n",
    "        #this is a fail, only one of the required char can exist at the first or second index\n",
    "        invalid_passwords += 1\n",
    "        continue\n",
    "    \n",
    "    elif indexed_char_1 == char_criteria or indexed_char_2 == char_criteria:\n",
    "        #this is a valid password\n",
    "        valid_passwords += 1\n",
    "        \n",
    "    else:\n",
    "        #any passwords here do not have the criterion char at the required positions\n",
    "        invalid_passwords += 1\n",
    "        \n",
    "if valid_passwords + invalid_passwords == total_passwords:\n",
    "    print(valid_passwords)\n",
    "else:\n",
    "    print('Your code is probably shite mate')"
   ]
  }
 ],
 "metadata": {
  "kernelspec": {
   "display_name": "Python 3",
   "language": "python",
   "name": "python3"
  },
  "language_info": {
   "codemirror_mode": {
    "name": "ipython",
    "version": 3
   },
   "file_extension": ".py",
   "mimetype": "text/x-python",
   "name": "python",
   "nbconvert_exporter": "python",
   "pygments_lexer": "ipython3",
   "version": "3.9.0"
  }
 },
 "nbformat": 4,
 "nbformat_minor": 4
}
